{
 "cells": [
  {
   "cell_type": "code",
   "execution_count": 140,
   "metadata": {},
   "outputs": [],
   "source": [
    "#ライブラリの呼び出し\n",
    "using Distributions"
   ]
  },
  {
   "cell_type": "code",
   "execution_count": 141,
   "metadata": {},
   "outputs": [
    {
     "data": {
      "text/plain": [
       "100000"
      ]
     },
     "execution_count": 141,
     "metadata": {},
     "output_type": "execute_result"
    }
   ],
   "source": [
    "##データの生成\n",
    "#データの設定\n",
    "k1 = 15\n",
    "k2 = 10\n",
    "k3 = 7\n",
    "N = 100000"
   ]
  },
  {
   "cell_type": "code",
   "execution_count": 142,
   "metadata": {},
   "outputs": [
    {
     "data": {
      "text/plain": [
       "32"
      ]
     },
     "execution_count": 142,
     "metadata": {},
     "output_type": "execute_result"
    }
   ],
   "source": [
    "#説明変数の生成 \n",
    "random = rand(k3)\n",
    "Prob2 = rand(k2)\n",
    "Prob3 = random / sum(random)\n",
    "intercept = ones(N)\n",
    "X1 = reshape(rand(Normal(0, 1), N*k1), N, k1)\n",
    "X2 = zeros(N, k2)\n",
    "for j in 1:k2\n",
    "    X2[:, j] = rand(Bernoulli(Prob2[j]), N)\n",
    "end\n",
    "X3 = (rand(Multinomial(1, Prob3), N)')[:, 1:(k3-1)]\n",
    "X = hcat(intercept, X1, X2, X3)\n",
    "k = size(X)[2]"
   ]
  },
  {
   "cell_type": "code",
   "execution_count": 143,
   "metadata": {},
   "outputs": [
    {
     "data": {
      "text/plain": [
       "100000-element Array{Float64,1}:\n",
       "  1.4345814788123885 \n",
       "  4.2294425024956075 \n",
       "  4.53301696736448   \n",
       " -0.7106384139263172 \n",
       " -1.9258099703955351 \n",
       " -1.3630725379520414 \n",
       "  2.9204724794887924 \n",
       "  5.310815334086806  \n",
       "  0.13658526258641296\n",
       "  3.1793909019397653 \n",
       "  2.2478817379032945 \n",
       "  2.7849463237411047 \n",
       "  1.7475755118078777 \n",
       "  ⋮                  \n",
       "  9.622890379593107  \n",
       "  6.9551740916772635 \n",
       "  1.2904309689878763 \n",
       "  1.1382185715487196 \n",
       "  2.6429883953212867 \n",
       "  2.6240113214587946 \n",
       "  2.0128490544965376 \n",
       "  4.010069529088386  \n",
       " -0.8460555101172252 \n",
       "  1.8583576685321535 \n",
       "  3.090097361930963  \n",
       "  3.207971735240382  "
      ]
     },
     "execution_count": 143,
     "metadata": {},
     "output_type": "execute_result"
    }
   ],
   "source": [
    "#応答変数を生成\n",
    "Sigma = 0.5\n",
    "beta = append!([3.0], rand(Normal(0, 0.75), k-1))\n",
    "betat = beta\n",
    "mu = X * beta \n",
    "y = mu + rand(Normal(0.0, Sigma), N)"
   ]
  },
  {
   "cell_type": "code",
   "execution_count": 144,
   "metadata": {},
   "outputs": [
    {
     "data": {
      "text/plain": [
       "32×2 Array{Float64,2}:\n",
       "  2.9909      3.0      \n",
       " -0.691802   -0.694742 \n",
       " -0.702333   -0.701591 \n",
       "  0.140679    0.144107 \n",
       " -0.932542   -0.93236  \n",
       " -0.0893275  -0.0879649\n",
       " -1.18367    -1.18142  \n",
       " -0.48624    -0.486619 \n",
       " -0.410356   -0.409354 \n",
       " -0.145228   -0.14392  \n",
       " -0.393729   -0.391441 \n",
       " -0.248074   -0.247718 \n",
       " -0.412904   -0.413869 \n",
       "  ⋮                    \n",
       " -0.891339   -0.891043 \n",
       " -1.3334     -1.33346  \n",
       " -1.2354     -1.24097  \n",
       " -0.448962   -0.452743 \n",
       " -0.61124    -0.613824 \n",
       "  0.337374    0.330275 \n",
       " -0.615463   -0.609272 \n",
       " -0.40938    -0.409106 \n",
       " -0.193456   -0.187735 \n",
       "  0.663369    0.664962 \n",
       " -0.622279   -0.624372 \n",
       " -1.13731    -1.13659  "
      ]
     },
     "execution_count": 144,
     "metadata": {},
     "output_type": "execute_result"
    }
   ],
   "source": [
    "#最小二乗法でパラメータを推定\n",
    "Xy = X' * y\n",
    "inv_XX = inv(X' * X)\n",
    "beta = inv_XX * Xy\n",
    "hcat(beta, betat)"
   ]
  },
  {
   "cell_type": "code",
   "execution_count": null,
   "metadata": {},
   "outputs": [],
   "source": []
  },
  {
   "cell_type": "code",
   "execution_count": null,
   "metadata": {},
   "outputs": [],
   "source": []
  },
  {
   "cell_type": "code",
   "execution_count": null,
   "metadata": {},
   "outputs": [],
   "source": []
  }
 ],
 "metadata": {
  "kernelspec": {
   "display_name": "Julia 1.2.0",
   "language": "julia",
   "name": "julia-1.2"
  },
  "language_info": {
   "file_extension": ".jl",
   "mimetype": "application/julia",
   "name": "julia",
   "version": "1.2.0"
  }
 },
 "nbformat": 4,
 "nbformat_minor": 2
}
